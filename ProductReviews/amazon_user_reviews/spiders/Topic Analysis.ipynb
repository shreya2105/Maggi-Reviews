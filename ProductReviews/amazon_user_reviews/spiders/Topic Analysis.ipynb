{
 "cells": [
  {
   "cell_type": "code",
   "execution_count": 5,
   "metadata": {},
   "outputs": [],
   "source": [
    "#In this workbook, sentiment of reviews will be measured using the stars and then the text of the review. \n",
    "#The sentiment will be mapped with dates and be visualized through three years.\n",
    "#Cluster analysis - topic modeling - What are people talking about?\n",
    "# What are my questions?\n",
    "\n",
    "#Q. In last three years, what are the most popular words that people have used to describe maggie?\n",
    "#Q. How has the sentiment evolved over a period of three years?\n",
    "#Q. \n",
    "\n",
    "#Possible topics - taste, texture, packaging, time of arrival"
   ]
  },
  {
   "cell_type": "code",
   "execution_count": 6,
   "metadata": {},
   "outputs": [],
   "source": [
    "# -*- coding: utf-8 -*-"
   ]
  },
  {
   "cell_type": "code",
   "execution_count": 7,
   "metadata": {},
   "outputs": [],
   "source": [
    "import pandas as pd\n",
    "import numpy as np\n",
    "from datetime import datetime"
   ]
  },
  {
   "cell_type": "code",
   "execution_count": 28,
   "metadata": {},
   "outputs": [],
   "source": [
    "#read the cleaned csv\n",
    "\n",
    "#maggie = pd.read_csv(\"maggie.csv\")\n",
    "maggie = pd.read_csv(\"earphones.csv\")\n",
    "maggie[\"comment\"] = maggie[\"comment\"].astype(str)\n",
    "#maggie[\"date\"] = pd.to_datetime(maggie[\"date\"], format='%Y-%m-%d')\n",
    "#maggie[\"date\"] = maggie[\"date\"].dt.date"
   ]
  },
  {
   "cell_type": "code",
   "execution_count": 29,
   "metadata": {},
   "outputs": [
    {
     "name": "stdout",
     "output_type": "stream",
     "text": [
      "<class 'pandas.core.frame.DataFrame'>\n",
      "RangeIndex: 4990 entries, 0 to 4989\n",
      "Data columns (total 3 columns):\n",
      " #   Column   Non-Null Count  Dtype \n",
      "---  ------   --------------  ----- \n",
      " 0   stars    4990 non-null   int64 \n",
      " 1   comment  4990 non-null   object\n",
      " 2   date     4990 non-null   object\n",
      "dtypes: int64(1), object(2)\n",
      "memory usage: 117.1+ KB\n"
     ]
    }
   ],
   "source": [
    "maggie.info()"
   ]
  },
  {
   "cell_type": "code",
   "execution_count": 30,
   "metadata": {},
   "outputs": [
    {
     "data": {
      "text/plain": [
       "'2020-08-16'"
      ]
     },
     "execution_count": 30,
     "metadata": {},
     "output_type": "execute_result"
    }
   ],
   "source": [
    "maggie[\"date\"].max()"
   ]
  },
  {
   "cell_type": "code",
   "execution_count": 31,
   "metadata": {},
   "outputs": [
    {
     "data": {
      "text/plain": [
       "'2018-08-22'"
      ]
     },
     "execution_count": 31,
     "metadata": {},
     "output_type": "execute_result"
    }
   ],
   "source": [
    "maggie[\"date\"].min()"
   ]
  },
  {
   "cell_type": "code",
   "execution_count": 32,
   "metadata": {},
   "outputs": [],
   "source": [
    "#Clean text column -- remove stopwords, punctuation\n",
    "import nltk\n",
    "from nltk.tokenize import RegexpTokenizer\n",
    "from nltk.corpus import stopwords\n",
    "import re"
   ]
  },
  {
   "cell_type": "code",
   "execution_count": 33,
   "metadata": {},
   "outputs": [],
   "source": [
    "my_stopwords = nltk.corpus.stopwords.words('english')\n",
    "word_rooter = nltk.stem.snowball.PorterStemmer(ignore_stopwords=False).stem\n",
    "my_punctuation = '!\"$%&\\'()*+,-./:;<=>?[\\\\]^_`{|}~•@'\n",
    "exclusionList = ['maggie','product','would','kar','ki','noodles', 'sn', 'maggi', \"pack\", \"noodle\", \"et\", \"test\", \"ed\"]\n",
    "exclusions = '|'.join(exclusionList)\n",
    "\n",
    "# cleaning master function\n",
    "def clean_text(text, bigrams = False):\n",
    "    text = text.lower() # lower case\n",
    "    text = re.sub('['+my_punctuation + ']+', ' ', text) # strip punctuation\n",
    "    text = re.sub('\\s+', ' ', text) #remove double spacing\n",
    "    text = re.sub('([0-9]+)', '', text) # remove numbers\n",
    "    text = re.sub(exclusions, '', text) #remove common words like maggie and noodles\n",
    "    text_token_list = [word for word in text.split(' ')\n",
    "                            if word not in my_stopwords] # remove stopwords\n",
    "\n",
    "    #text_token_list = [word_rooter(word) if '#' not in word else word\n",
    "    #                    for word in text_token_list] # apply word rooter\n",
    "    #if bigrams:\n",
    "    #    text_token_list = text_token_list+[text_token_list[i]+'_'+text_token_list[i+1]\n",
    "    #                                        for i in range(len(text_token_list)-1)]\n",
    "    text = ' '.join(text_token_list)\n",
    "    return text"
   ]
  },
  {
   "cell_type": "code",
   "execution_count": 34,
   "metadata": {},
   "outputs": [],
   "source": [
    "maggie['comment'] = maggie.comment.apply(clean_text)"
   ]
  },
  {
   "cell_type": "code",
   "execution_count": 35,
   "metadata": {},
   "outputs": [],
   "source": [
    "from sklearn.feature_extraction.text import CountVectorizer\n",
    "\n",
    "# the vectorizer object will be used to transform text to vector form\n",
    "vectorizer = CountVectorizer(max_df=0.9, min_df = 25, token_pattern='\\w+|\\$[\\d\\.]+|\\S+')\n",
    "\n",
    "# apply transformation\n",
    "tf = vectorizer.fit_transform(maggie['comment']).toarray()\n",
    "\n",
    "# tf_feature_names tells us what word each column in the matric represents\n",
    "tf_feature_names = vectorizer.get_feature_names()"
   ]
  },
  {
   "cell_type": "code",
   "execution_count": 36,
   "metadata": {},
   "outputs": [],
   "source": [
    "from sklearn.decomposition import LatentDirichletAllocation\n",
    "\n",
    "number_of_topics = 4\n",
    "\n",
    "model = LatentDirichletAllocation(n_components=number_of_topics, random_state=0)"
   ]
  },
  {
   "cell_type": "code",
   "execution_count": 37,
   "metadata": {},
   "outputs": [
    {
     "data": {
      "text/plain": [
       "LatentDirichletAllocation(batch_size=128, doc_topic_prior=None,\n",
       "                          evaluate_every=-1, learning_decay=0.7,\n",
       "                          learning_method='batch', learning_offset=10.0,\n",
       "                          max_doc_update_iter=100, max_iter=10,\n",
       "                          mean_change_tol=0.001, n_components=4, n_jobs=None,\n",
       "                          perp_tol=0.1, random_state=0, topic_word_prior=None,\n",
       "                          total_samples=1000000.0, verbose=0)"
      ]
     },
     "execution_count": 37,
     "metadata": {},
     "output_type": "execute_result"
    }
   ],
   "source": [
    "model.fit(tf)"
   ]
  },
  {
   "cell_type": "code",
   "execution_count": 38,
   "metadata": {},
   "outputs": [],
   "source": [
    "def display_topics(model, feature_names, no_top_words):\n",
    "    topic_dict = {}\n",
    "    for topic_idx, topic in enumerate(model.components_):\n",
    "        topic_dict[\"Topic %d words\" % (topic_idx)]= ['{}'.format(feature_names[i])\n",
    "                        for i in topic.argsort()[:-no_top_words - 1:-1]]\n",
    "        topic_dict[\"Topic %d weights\" % (topic_idx)]= ['{:.1f}'.format(topic[i])\n",
    "                        for i in topic.argsort()[:-no_top_words - 1:-1]]\n",
    "    return pd.DataFrame(topic_dict)"
   ]
  },
  {
   "cell_type": "code",
   "execution_count": 39,
   "metadata": {},
   "outputs": [
    {
     "data": {
      "text/html": [
       "<div>\n",
       "<style scoped>\n",
       "    .dataframe tbody tr th:only-of-type {\n",
       "        vertical-align: middle;\n",
       "    }\n",
       "\n",
       "    .dataframe tbody tr th {\n",
       "        vertical-align: top;\n",
       "    }\n",
       "\n",
       "    .dataframe thead th {\n",
       "        text-align: right;\n",
       "    }\n",
       "</style>\n",
       "<table border=\"1\" class=\"dataframe\">\n",
       "  <thead>\n",
       "    <tr style=\"text-align: right;\">\n",
       "      <th></th>\n",
       "      <th>Topic 0 words</th>\n",
       "      <th>Topic 0 weights</th>\n",
       "      <th>Topic 1 words</th>\n",
       "      <th>Topic 1 weights</th>\n",
       "      <th>Topic 2 words</th>\n",
       "      <th>Topic 2 weights</th>\n",
       "      <th>Topic 3 words</th>\n",
       "      <th>Topic 3 weights</th>\n",
       "    </tr>\n",
       "  </thead>\n",
       "  <tbody>\n",
       "    <tr>\n",
       "      <th>0</th>\n",
       "      <td>good</td>\n",
       "      <td>1859.7</td>\n",
       "      <td>jbl</td>\n",
       "      <td>463.2</td>\n",
       "      <td>worng</td>\n",
       "      <td>562.5</td>\n",
       "      <td>ear</td>\n",
       "      <td>580.9</td>\n",
       "    </tr>\n",
       "    <tr>\n",
       "      <th>1</th>\n",
       "      <td>sound</td>\n",
       "      <td>1180.9</td>\n",
       "      <td>bluooth</td>\n",
       "      <td>267.3</td>\n",
       "      <td>months</td>\n",
       "      <td>370.4</td>\n",
       "      <td>sound</td>\n",
       "      <td>509.9</td>\n",
       "    </tr>\n",
       "    <tr>\n",
       "      <th>2</th>\n",
       "      <td>quality</td>\n",
       "      <td>1099.7</td>\n",
       "      <td>earphones</td>\n",
       "      <td>218.3</td>\n",
       "      <td>one</td>\n",
       "      <td>359.1</td>\n",
       "      <td>quality</td>\n",
       "      <td>507.3</td>\n",
       "    </tr>\n",
       "    <tr>\n",
       "      <th>3</th>\n",
       "      <td>battery</td>\n",
       "      <td>678.2</td>\n",
       "      <td>worth</td>\n",
       "      <td>180.2</td>\n",
       "      <td>month</td>\n",
       "      <td>311.2</td>\n",
       "      <td>ears</td>\n",
       "      <td>265.0</td>\n",
       "    </tr>\n",
       "    <tr>\n",
       "      <th>4</th>\n",
       "      <td>noise</td>\n",
       "      <td>345.8</td>\n",
       "      <td>quality</td>\n",
       "      <td>137.0</td>\n",
       "      <td>worst</td>\n",
       "      <td>258.5</td>\n",
       "      <td>good</td>\n",
       "      <td>255.2</td>\n",
       "    </tr>\n",
       "    <tr>\n",
       "      <th>5</th>\n",
       "      <td>bass</td>\n",
       "      <td>308.3</td>\n",
       "      <td>’s</td>\n",
       "      <td>135.2</td>\n",
       "      <td>days</td>\n",
       "      <td>250.1</td>\n",
       "      <td>bass</td>\n",
       "      <td>234.0</td>\n",
       "    </tr>\n",
       "    <tr>\n",
       "      <th>6</th>\n",
       "      <td>cancellation</td>\n",
       "      <td>272.6</td>\n",
       "      <td>connect</td>\n",
       "      <td>122.6</td>\n",
       "      <td>jbl</td>\n",
       "      <td>243.6</td>\n",
       "      <td>best</td>\n",
       "      <td>219.7</td>\n",
       "    </tr>\n",
       "    <tr>\n",
       "      <th>7</th>\n",
       "      <td>life</td>\n",
       "      <td>228.0</td>\n",
       "      <td>nice</td>\n",
       "      <td>121.6</td>\n",
       "      <td>buy</td>\n",
       "      <td>236.2</td>\n",
       "      <td>earphones</td>\n",
       "      <td>194.3</td>\n",
       "    </tr>\n",
       "    <tr>\n",
       "      <th>8</th>\n",
       "      <td>poor</td>\n",
       "      <td>209.1</td>\n",
       "      <td>one</td>\n",
       "      <td>120.4</td>\n",
       "      <td>bad</td>\n",
       "      <td>233.4</td>\n",
       "      <td>fit</td>\n",
       "      <td>191.2</td>\n",
       "    </tr>\n",
       "    <tr>\n",
       "      <th>9</th>\n",
       "      <td>backup</td>\n",
       "      <td>205.2</td>\n",
       "      <td>connectivity</td>\n",
       "      <td>116.2</td>\n",
       "      <td>quality</td>\n",
       "      <td>229.0</td>\n",
       "      <td>use</td>\n",
       "      <td>176.3</td>\n",
       "    </tr>\n",
       "  </tbody>\n",
       "</table>\n",
       "</div>"
      ],
      "text/plain": [
       "  Topic 0 words Topic 0 weights Topic 1 words Topic 1 weights Topic 2 words  \\\n",
       "0          good          1859.7           jbl           463.2         worng   \n",
       "1         sound          1180.9       bluooth           267.3        months   \n",
       "2       quality          1099.7     earphones           218.3           one   \n",
       "3       battery           678.2         worth           180.2         month   \n",
       "4         noise           345.8       quality           137.0         worst   \n",
       "5          bass           308.3            ’s           135.2          days   \n",
       "6  cancellation           272.6       connect           122.6           jbl   \n",
       "7          life           228.0          nice           121.6           buy   \n",
       "8          poor           209.1           one           120.4           bad   \n",
       "9        backup           205.2  connectivity           116.2       quality   \n",
       "\n",
       "  Topic 2 weights Topic 3 words Topic 3 weights  \n",
       "0           562.5           ear           580.9  \n",
       "1           370.4         sound           509.9  \n",
       "2           359.1       quality           507.3  \n",
       "3           311.2          ears           265.0  \n",
       "4           258.5          good           255.2  \n",
       "5           250.1          bass           234.0  \n",
       "6           243.6          best           219.7  \n",
       "7           236.2     earphones           194.3  \n",
       "8           233.4           fit           191.2  \n",
       "9           229.0           use           176.3  "
      ]
     },
     "execution_count": 39,
     "metadata": {},
     "output_type": "execute_result"
    }
   ],
   "source": [
    "no_top_words = 10\n",
    "display_topics(model, tf_feature_names, no_top_words)"
   ]
  },
  {
   "cell_type": "code",
   "execution_count": null,
   "metadata": {},
   "outputs": [],
   "source": [
    "#Classify the sentiments --Positive and negative\n",
    "#Simple frequency analysis - Most popular words in reviews\n"
   ]
  },
  {
   "cell_type": "code",
   "execution_count": null,
   "metadata": {},
   "outputs": [],
   "source": []
  },
  {
   "cell_type": "code",
   "execution_count": null,
   "metadata": {},
   "outputs": [],
   "source": [
    "#Stars are in the range of 1-5. Anything between below 3 will be considered a negative sentiment, 3 as neutral and \n",
    "#above 3 as positive.\n",
    "\n",
    "#Count #of 1's, 2's and 3's and 4's and 5's in ratings and create a separate cluster\n",
    "\n",
    "#Step 1: Create a new colummn labelling the sentiments as positive, negative and neutral\n"
   ]
  }
 ],
 "metadata": {
  "kernelspec": {
   "display_name": "Python 3",
   "language": "python",
   "name": "python3"
  },
  "language_info": {
   "codemirror_mode": {
    "name": "ipython",
    "version": 3
   },
   "file_extension": ".py",
   "mimetype": "text/x-python",
   "name": "python",
   "nbconvert_exporter": "python",
   "pygments_lexer": "ipython3",
   "version": "3.7.4"
  }
 },
 "nbformat": 4,
 "nbformat_minor": 4
}
